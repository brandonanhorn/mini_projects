{
 "cells": [
  {
   "cell_type": "code",
   "execution_count": 1,
   "metadata": {},
   "outputs": [],
   "source": [
    "import pandas as pd\n",
    "\n",
    "import seaborn as sns"
   ]
  },
  {
   "cell_type": "code",
   "execution_count": 2,
   "metadata": {},
   "outputs": [],
   "source": [
    "df = pd.read_csv(\"dataset.csv\")"
   ]
  },
  {
   "cell_type": "markdown",
   "metadata": {},
   "source": [
    "### Exploratory"
   ]
  },
  {
   "cell_type": "code",
   "execution_count": 3,
   "metadata": {},
   "outputs": [
    {
     "data": {
      "text/html": [
       "<div>\n",
       "<style scoped>\n",
       "    .dataframe tbody tr th:only-of-type {\n",
       "        vertical-align: middle;\n",
       "    }\n",
       "\n",
       "    .dataframe tbody tr th {\n",
       "        vertical-align: top;\n",
       "    }\n",
       "\n",
       "    .dataframe thead th {\n",
       "        text-align: right;\n",
       "    }\n",
       "</style>\n",
       "<table border=\"1\" class=\"dataframe\">\n",
       "  <thead>\n",
       "    <tr style=\"text-align: right;\">\n",
       "      <th></th>\n",
       "      <th>user_id</th>\n",
       "      <th>created_at</th>\n",
       "      <th>event</th>\n",
       "    </tr>\n",
       "  </thead>\n",
       "  <tbody>\n",
       "    <tr>\n",
       "      <th>0</th>\n",
       "      <td>1</td>\n",
       "      <td>2019-11-27 11:22</td>\n",
       "      <td>category-5-registered</td>\n",
       "    </tr>\n",
       "    <tr>\n",
       "      <th>1</th>\n",
       "      <td>1</td>\n",
       "      <td>2019-11-27 11:24</td>\n",
       "      <td>category-5-completed-profile</td>\n",
       "    </tr>\n",
       "    <tr>\n",
       "      <th>2</th>\n",
       "      <td>1</td>\n",
       "      <td>2019-11-27 11:24</td>\n",
       "      <td>category-5-started-application</td>\n",
       "    </tr>\n",
       "    <tr>\n",
       "      <th>3</th>\n",
       "      <td>2</td>\n",
       "      <td>2019-11-27 11:27</td>\n",
       "      <td>category-5-registered</td>\n",
       "    </tr>\n",
       "    <tr>\n",
       "      <th>4</th>\n",
       "      <td>2</td>\n",
       "      <td>2019-11-27 11:28</td>\n",
       "      <td>category-5-completed-profile</td>\n",
       "    </tr>\n",
       "    <tr>\n",
       "      <th>...</th>\n",
       "      <td>...</td>\n",
       "      <td>...</td>\n",
       "      <td>...</td>\n",
       "    </tr>\n",
       "    <tr>\n",
       "      <th>26835</th>\n",
       "      <td>3914</td>\n",
       "      <td>2020-03-15 23:22</td>\n",
       "      <td>category-5-entered-checkout</td>\n",
       "    </tr>\n",
       "    <tr>\n",
       "      <th>26836</th>\n",
       "      <td>3914</td>\n",
       "      <td>2020-03-15 23:22</td>\n",
       "      <td>category-5-shipping-info</td>\n",
       "    </tr>\n",
       "    <tr>\n",
       "      <th>26837</th>\n",
       "      <td>3914</td>\n",
       "      <td>2020-03-15 23:22</td>\n",
       "      <td>category-5-payment-info</td>\n",
       "    </tr>\n",
       "    <tr>\n",
       "      <th>26838</th>\n",
       "      <td>76</td>\n",
       "      <td>2020-03-16 9:57</td>\n",
       "      <td>category-3-entered-checkout</td>\n",
       "    </tr>\n",
       "    <tr>\n",
       "      <th>26839</th>\n",
       "      <td>76</td>\n",
       "      <td>2020-03-16 9:57</td>\n",
       "      <td>category-3-shipping-info</td>\n",
       "    </tr>\n",
       "  </tbody>\n",
       "</table>\n",
       "<p>26840 rows × 3 columns</p>\n",
       "</div>"
      ],
      "text/plain": [
       "       user_id        created_at                           event\n",
       "0            1  2019-11-27 11:22           category-5-registered\n",
       "1            1  2019-11-27 11:24    category-5-completed-profile\n",
       "2            1  2019-11-27 11:24  category-5-started-application\n",
       "3            2  2019-11-27 11:27           category-5-registered\n",
       "4            2  2019-11-27 11:28    category-5-completed-profile\n",
       "...        ...               ...                             ...\n",
       "26835     3914  2020-03-15 23:22     category-5-entered-checkout\n",
       "26836     3914  2020-03-15 23:22        category-5-shipping-info\n",
       "26837     3914  2020-03-15 23:22         category-5-payment-info\n",
       "26838       76   2020-03-16 9:57     category-3-entered-checkout\n",
       "26839       76   2020-03-16 9:57        category-3-shipping-info\n",
       "\n",
       "[26840 rows x 3 columns]"
      ]
     },
     "execution_count": 3,
     "metadata": {},
     "output_type": "execute_result"
    }
   ],
   "source": [
    "df"
   ]
  },
  {
   "cell_type": "code",
   "execution_count": 4,
   "metadata": {},
   "outputs": [
    {
     "name": "stdout",
     "output_type": "stream",
     "text": [
      "<class 'pandas.core.frame.DataFrame'>\n",
      "RangeIndex: 26840 entries, 0 to 26839\n",
      "Data columns (total 3 columns):\n",
      " #   Column      Non-Null Count  Dtype \n",
      "---  ------      --------------  ----- \n",
      " 0   user_id     26840 non-null  int64 \n",
      " 1   created_at  26840 non-null  object\n",
      " 2   event       26840 non-null  object\n",
      "dtypes: int64(1), object(2)\n",
      "memory usage: 629.2+ KB\n"
     ]
    }
   ],
   "source": [
    "df.info()"
   ]
  },
  {
   "cell_type": "code",
   "execution_count": 5,
   "metadata": {},
   "outputs": [],
   "source": [
    "# general info"
   ]
  },
  {
   "cell_type": "code",
   "execution_count": 6,
   "metadata": {},
   "outputs": [
    {
     "data": {
      "text/plain": [
       "5005"
      ]
     },
     "execution_count": 6,
     "metadata": {},
     "output_type": "execute_result"
    }
   ],
   "source": [
    "# finding unique user total\n",
    "len(df[\"user_id\"].unique())"
   ]
  },
  {
   "cell_type": "code",
   "execution_count": 7,
   "metadata": {},
   "outputs": [
    {
     "data": {
      "text/plain": [
       "26839   109 days 22:35:00\n",
       "Name: created_at, dtype: timedelta64[ns]"
      ]
     },
     "execution_count": 7,
     "metadata": {},
     "output_type": "execute_result"
    }
   ],
   "source": [
    "# checking date length\n",
    "df[\"created_at\"] = pd.to_datetime(df[\"created_at\"])\n",
    "df[\"created_at\"][-1:] - df[\"created_at\"][0]"
   ]
  },
  {
   "cell_type": "code",
   "execution_count": 8,
   "metadata": {},
   "outputs": [
    {
     "data": {
      "text/plain": [
       "category-5-registered              2345\n",
       "category-3-registered              2342\n",
       "category-3-started-application     2240\n",
       "category-3-completed-profile       2117\n",
       "category-5-started-application     1996\n",
       "category-5-completed-profile       1914\n",
       "category-5-finished-application    1609\n",
       "category-3-finished-application    1593\n",
       "category-3-entered-checkout        1506\n",
       "category-5-entered-checkout        1322\n",
       "category-3-shipping-info           1275\n",
       "category-5-shipping-info           1061\n",
       "category-5-payment-info             847\n",
       "category-3-payment-info             831\n",
       "category-3-fully-complete           557\n",
       "category-5-fully-complete           525\n",
       "category-1-started-application      365\n",
       "category-1-finished-application     253\n",
       "category-1-entered-checkout         215\n",
       "category-1-shipping-info            184\n",
       "category-1-completed-profile        179\n",
       "category-1-registered               161\n",
       "category-7-started-application      152\n",
       "category-1-payment-info             137\n",
       "category-7-finished-application     125\n",
       "category-7-registered               120\n",
       "category-7-completed-profile        107\n",
       "category-7-entered-checkout          96\n",
       "category-1-fully-complete            89\n",
       "category-7-shipping-info             87\n",
       "category-7-payment-info              70\n",
       "category-7-fully-complete            49\n",
       "category-2-started-application       39\n",
       "category-4-started-application       30\n",
       "category-6-started-application       26\n",
       "category-2-finished-application      24\n",
       "category-4-finished-application      24\n",
       "category-6-finished-application      22\n",
       "category-6-payment-info              17\n",
       "category-2-entered-checkout          16\n",
       "category-6-entered-checkout          16\n",
       "category-6-registered                14\n",
       "category-6-shipping-info             14\n",
       "category-4-entered-checkout          14\n",
       "category-6-fully-complete            13\n",
       "category-4-shipping-info             12\n",
       "category-2-shipping-info             11\n",
       "category-6-completed-profile         11\n",
       "category-2-registered                10\n",
       "category-4-payment-info              10\n",
       "category-4-completed-profile         10\n",
       "category-4-registered                10\n",
       "category-2-payment-info               9\n",
       "category-4-fully-complete             9\n",
       "category-2-completed-profile          7\n",
       "category-2-fully-complete             3\n",
       "Name: event, dtype: int64"
      ]
     },
     "execution_count": 8,
     "metadata": {},
     "output_type": "execute_result"
    }
   ],
   "source": [
    "df[\"event\"].value_counts()"
   ]
  },
  {
   "cell_type": "code",
   "execution_count": 9,
   "metadata": {},
   "outputs": [],
   "source": [
    "# creating 2 more columns from event\n",
    "category = []\n",
    "process = []\n",
    "for i in df[\"event\"]:\n",
    "    z = i.split(\"-\")[1]\n",
    "    category.append(z)\n",
    "    y = i.split(\"-\",2)[2]\n",
    "    process.append(y)\n",
    "    \n",
    "df[\"category\"] = category\n",
    "df[\"process\"] = process"
   ]
  },
  {
   "cell_type": "code",
   "execution_count": 10,
   "metadata": {},
   "outputs": [],
   "source": [
    "df[\"process\"] = df[\"process\"].str.replace(\"-\", \" \")"
   ]
  },
  {
   "cell_type": "code",
   "execution_count": 11,
   "metadata": {},
   "outputs": [
    {
     "data": {
      "text/html": [
       "<div>\n",
       "<style scoped>\n",
       "    .dataframe tbody tr th:only-of-type {\n",
       "        vertical-align: middle;\n",
       "    }\n",
       "\n",
       "    .dataframe tbody tr th {\n",
       "        vertical-align: top;\n",
       "    }\n",
       "\n",
       "    .dataframe thead th {\n",
       "        text-align: right;\n",
       "    }\n",
       "</style>\n",
       "<table border=\"1\" class=\"dataframe\">\n",
       "  <thead>\n",
       "    <tr style=\"text-align: right;\">\n",
       "      <th></th>\n",
       "      <th>user_id</th>\n",
       "      <th>created_at</th>\n",
       "      <th>event</th>\n",
       "      <th>category</th>\n",
       "      <th>process</th>\n",
       "    </tr>\n",
       "  </thead>\n",
       "  <tbody>\n",
       "    <tr>\n",
       "      <th>0</th>\n",
       "      <td>1</td>\n",
       "      <td>2019-11-27 11:22:00</td>\n",
       "      <td>category-5-registered</td>\n",
       "      <td>5</td>\n",
       "      <td>registered</td>\n",
       "    </tr>\n",
       "    <tr>\n",
       "      <th>1</th>\n",
       "      <td>1</td>\n",
       "      <td>2019-11-27 11:24:00</td>\n",
       "      <td>category-5-completed-profile</td>\n",
       "      <td>5</td>\n",
       "      <td>completed profile</td>\n",
       "    </tr>\n",
       "    <tr>\n",
       "      <th>2</th>\n",
       "      <td>1</td>\n",
       "      <td>2019-11-27 11:24:00</td>\n",
       "      <td>category-5-started-application</td>\n",
       "      <td>5</td>\n",
       "      <td>started application</td>\n",
       "    </tr>\n",
       "    <tr>\n",
       "      <th>3</th>\n",
       "      <td>2</td>\n",
       "      <td>2019-11-27 11:27:00</td>\n",
       "      <td>category-5-registered</td>\n",
       "      <td>5</td>\n",
       "      <td>registered</td>\n",
       "    </tr>\n",
       "    <tr>\n",
       "      <th>4</th>\n",
       "      <td>2</td>\n",
       "      <td>2019-11-27 11:28:00</td>\n",
       "      <td>category-5-completed-profile</td>\n",
       "      <td>5</td>\n",
       "      <td>completed profile</td>\n",
       "    </tr>\n",
       "    <tr>\n",
       "      <th>...</th>\n",
       "      <td>...</td>\n",
       "      <td>...</td>\n",
       "      <td>...</td>\n",
       "      <td>...</td>\n",
       "      <td>...</td>\n",
       "    </tr>\n",
       "    <tr>\n",
       "      <th>26835</th>\n",
       "      <td>3914</td>\n",
       "      <td>2020-03-15 23:22:00</td>\n",
       "      <td>category-5-entered-checkout</td>\n",
       "      <td>5</td>\n",
       "      <td>entered checkout</td>\n",
       "    </tr>\n",
       "    <tr>\n",
       "      <th>26836</th>\n",
       "      <td>3914</td>\n",
       "      <td>2020-03-15 23:22:00</td>\n",
       "      <td>category-5-shipping-info</td>\n",
       "      <td>5</td>\n",
       "      <td>shipping info</td>\n",
       "    </tr>\n",
       "    <tr>\n",
       "      <th>26837</th>\n",
       "      <td>3914</td>\n",
       "      <td>2020-03-15 23:22:00</td>\n",
       "      <td>category-5-payment-info</td>\n",
       "      <td>5</td>\n",
       "      <td>payment info</td>\n",
       "    </tr>\n",
       "    <tr>\n",
       "      <th>26838</th>\n",
       "      <td>76</td>\n",
       "      <td>2020-03-16 09:57:00</td>\n",
       "      <td>category-3-entered-checkout</td>\n",
       "      <td>3</td>\n",
       "      <td>entered checkout</td>\n",
       "    </tr>\n",
       "    <tr>\n",
       "      <th>26839</th>\n",
       "      <td>76</td>\n",
       "      <td>2020-03-16 09:57:00</td>\n",
       "      <td>category-3-shipping-info</td>\n",
       "      <td>3</td>\n",
       "      <td>shipping info</td>\n",
       "    </tr>\n",
       "  </tbody>\n",
       "</table>\n",
       "<p>26840 rows × 5 columns</p>\n",
       "</div>"
      ],
      "text/plain": [
       "       user_id          created_at                           event category  \\\n",
       "0            1 2019-11-27 11:22:00           category-5-registered        5   \n",
       "1            1 2019-11-27 11:24:00    category-5-completed-profile        5   \n",
       "2            1 2019-11-27 11:24:00  category-5-started-application        5   \n",
       "3            2 2019-11-27 11:27:00           category-5-registered        5   \n",
       "4            2 2019-11-27 11:28:00    category-5-completed-profile        5   \n",
       "...        ...                 ...                             ...      ...   \n",
       "26835     3914 2020-03-15 23:22:00     category-5-entered-checkout        5   \n",
       "26836     3914 2020-03-15 23:22:00        category-5-shipping-info        5   \n",
       "26837     3914 2020-03-15 23:22:00         category-5-payment-info        5   \n",
       "26838       76 2020-03-16 09:57:00     category-3-entered-checkout        3   \n",
       "26839       76 2020-03-16 09:57:00        category-3-shipping-info        3   \n",
       "\n",
       "                   process  \n",
       "0               registered  \n",
       "1        completed profile  \n",
       "2      started application  \n",
       "3               registered  \n",
       "4        completed profile  \n",
       "...                    ...  \n",
       "26835     entered checkout  \n",
       "26836        shipping info  \n",
       "26837         payment info  \n",
       "26838     entered checkout  \n",
       "26839        shipping info  \n",
       "\n",
       "[26840 rows x 5 columns]"
      ]
     },
     "execution_count": 11,
     "metadata": {},
     "output_type": "execute_result"
    }
   ],
   "source": [
    "df"
   ]
  },
  {
   "cell_type": "code",
   "execution_count": 12,
   "metadata": {},
   "outputs": [
    {
     "data": {
      "text/plain": [
       "3    12461\n",
       "5    11619\n",
       "1     1583\n",
       "7      806\n",
       "6      133\n",
       "4      119\n",
       "2      119\n",
       "Name: category, dtype: int64"
      ]
     },
     "execution_count": 12,
     "metadata": {},
     "output_type": "execute_result"
    }
   ],
   "source": [
    "df[\"category\"].value_counts()"
   ]
  },
  {
   "cell_type": "code",
   "execution_count": 13,
   "metadata": {},
   "outputs": [
    {
     "data": {
      "image/png": "[encoded data removed]",
      "text/plain": [
       "<Figure size 432x288 with 1 Axes>"
      ]
     },
     "metadata": {},
     "output_type": "display_data"
    }
   ],
   "source": [
    "sns.set_theme(style=\"darkgrid\")\n",
    "\n",
    "ax = sns.countplot(y=\"category\", data=df)"
   ]
  },
  {
   "cell_type": "markdown",
   "metadata": {},
   "source": [
    "# Total Values"
   ]
  },
  {
   "cell_type": "code",
   "execution_count": 14,
   "metadata": {},
   "outputs": [
    {
     "data": {
      "text/plain": [
       "registered              5002\n",
       "started application     4848\n",
       "completed profile       4345\n",
       "finished application    3650\n",
       "entered checkout        3185\n",
       "shipping info           2644\n",
       "payment info            1921\n",
       "fully complete          1245\n",
       "Name: process, dtype: int64"
      ]
     },
     "execution_count": 14,
     "metadata": {},
     "output_type": "execute_result"
    }
   ],
   "source": [
    "df[\"process\"].value_counts()"
   ]
  },
  {
   "cell_type": "code",
   "execution_count": 15,
   "metadata": {},
   "outputs": [
    {
     "name": "stdout",
     "output_type": "stream",
     "text": [
      "0.9994005994005994\n",
      "0.9686313686313687\n",
      "0.8681318681318682\n",
      "0.7292707292707292\n",
      "0.6363636363636364\n",
      "0.5282717282717283\n",
      "0.3838161838161838\n",
      "0.24875124875124874\n"
     ]
    }
   ],
   "source": [
    "# finding how far each unique user_id got in the process, with all categories\n",
    "# order follows above value count\n",
    "for i in df[\"process\"].value_counts():\n",
    "    z = i / len(df[\"user_id\"].unique())\n",
    "    print(z)"
   ]
  },
  {
   "cell_type": "code",
   "execution_count": 16,
   "metadata": {},
   "outputs": [
    {
     "data": {
      "image/png": "[encoded data removed]",
      "text/plain": [
       "<Figure size 432x288 with 1 Axes>"
      ]
     },
     "metadata": {},
     "output_type": "display_data"
    }
   ],
   "source": [
    "hues = df[\"process\"].unique()\n",
    "\n",
    "sns.set_theme(style=\"darkgrid\")\n",
    "\n",
    "ax = sns.countplot(y=\"process\", data=df, order=hues)"
   ]
  },
  {
   "cell_type": "markdown",
   "metadata": {},
   "source": [
    "### Category 1"
   ]
  },
  {
   "cell_type": "code",
   "execution_count": 17,
   "metadata": {},
   "outputs": [
    {
     "name": "stdout",
     "output_type": "stream",
     "text": [
      "Amount of entries for the category 1 product: 1583\n"
     ]
    },
    {
     "data": {
      "text/plain": [
       "started application     365\n",
       "finished application    253\n",
       "entered checkout        215\n",
       "shipping info           184\n",
       "completed profile       179\n",
       "registered              161\n",
       "payment info            137\n",
       "fully complete           89\n",
       "Name: process, dtype: int64"
      ]
     },
     "execution_count": 17,
     "metadata": {},
     "output_type": "execute_result"
    }
   ],
   "source": [
    "df_cat_1 = df[df[\"category\"] == \"1\"]\n",
    "print(\"Amount of entries for the category 1 product: \" + str(len(df_cat_1)))\n",
    "df_cat_1[\"process\"].value_counts()"
   ]
  },
  {
   "cell_type": "code",
   "execution_count": 18,
   "metadata": {},
   "outputs": [
    {
     "name": "stdout",
     "output_type": "stream",
     "text": [
      "1.1196319018404908\n",
      "0.7760736196319018\n",
      "0.6595092024539877\n",
      "0.5644171779141104\n",
      "0.549079754601227\n",
      "0.4938650306748466\n",
      "0.42024539877300615\n",
      "0.27300613496932513\n"
     ]
    }
   ],
   "source": [
    "# finding how far each unique user_id got in the process for category 1 products\n",
    "# order follows above value count\n",
    "for i in df_cat_1[\"process\"].value_counts():\n",
    "    z = i /len(df_cat_1[\"user_id\"].unique())\n",
    "    print(z)"
   ]
  },
  {
   "cell_type": "code",
   "execution_count": 19,
   "metadata": {},
   "outputs": [
    {
     "data": {
      "image/png": "[encoded data removed]",
      "text/plain": [
       "<Figure size 432x288 with 1 Axes>"
      ]
     },
     "metadata": {},
     "output_type": "display_data"
    }
   ],
   "source": [
    "sns.set_theme(style=\"darkgrid\")\n",
    "\n",
    "ax = sns.countplot(y=\"process\", data=df_cat_1, order=hues)"
   ]
  },
  {
   "cell_type": "markdown",
   "metadata": {},
   "source": [
    "### Category 2"
   ]
  },
  {
   "cell_type": "code",
   "execution_count": 20,
   "metadata": {},
   "outputs": [
    {
     "name": "stdout",
     "output_type": "stream",
     "text": [
      "Amount of entries for the category 2 product: 119\n"
     ]
    },
    {
     "data": {
      "text/plain": [
       "started application     39\n",
       "finished application    24\n",
       "entered checkout        16\n",
       "shipping info           11\n",
       "registered              10\n",
       "payment info             9\n",
       "completed profile        7\n",
       "fully complete           3\n",
       "Name: process, dtype: int64"
      ]
     },
     "execution_count": 20,
     "metadata": {},
     "output_type": "execute_result"
    }
   ],
   "source": [
    "df_cat_2 = df[df[\"category\"] == \"2\"]\n",
    "print(\"Amount of entries for the category 2 product: \" + str(len(df_cat_2)))\n",
    "df_cat_2[\"process\"].value_counts()"
   ]
  },
  {
   "cell_type": "code",
   "execution_count": 21,
   "metadata": {},
   "outputs": [
    {
     "name": "stdout",
     "output_type": "stream",
     "text": [
      "0.9069767441860465\n",
      "0.5581395348837209\n",
      "0.37209302325581395\n",
      "0.2558139534883721\n",
      "0.23255813953488372\n",
      "0.20930232558139536\n",
      "0.16279069767441862\n",
      "0.06976744186046512\n"
     ]
    }
   ],
   "source": [
    "# finding how far each unique user_id got in the process for category 2 products\n",
    "# order follows above value count\n",
    "for i in df_cat_2[\"process\"].value_counts():\n",
    "    z = i /len(df_cat_2[\"user_id\"].unique())\n",
    "    print(z)"
   ]
  },
  {
   "cell_type": "code",
   "execution_count": 22,
   "metadata": {},
   "outputs": [
    {
     "data": {
      "image/png": "[encoded data removed]",
      "text/plain": [
       "<Figure size 432x288 with 1 Axes>"
      ]
     },
     "metadata": {},
     "output_type": "display_data"
    }
   ],
   "source": [
    "sns.set_theme(style=\"darkgrid\")\n",
    "\n",
    "ax = sns.countplot(y=\"process\", data=df_cat_2, order=hues)"
   ]
  },
  {
   "cell_type": "markdown",
   "metadata": {},
   "source": [
    "### Category 3"
   ]
  },
  {
   "cell_type": "code",
   "execution_count": 23,
   "metadata": {},
   "outputs": [
    {
     "name": "stdout",
     "output_type": "stream",
     "text": [
      "Amount of entries for the category 3 product: 12461\n"
     ]
    },
    {
     "data": {
      "text/plain": [
       "registered              2342\n",
       "started application     2240\n",
       "completed profile       2117\n",
       "finished application    1593\n",
       "entered checkout        1506\n",
       "shipping info           1275\n",
       "payment info             831\n",
       "fully complete           557\n",
       "Name: process, dtype: int64"
      ]
     },
     "execution_count": 23,
     "metadata": {},
     "output_type": "execute_result"
    }
   ],
   "source": [
    "df_cat_3 = df[df[\"category\"] == \"3\"]\n",
    "print(\"Amount of entries for the category 3 product: \" + str(len(df_cat_3)))\n",
    "df_cat_3[\"process\"].value_counts()"
   ]
  },
  {
   "cell_type": "code",
   "execution_count": 24,
   "metadata": {},
   "outputs": [
    {
     "name": "stdout",
     "output_type": "stream",
     "text": [
      "0.9865206402695872\n",
      "0.9435551811288964\n",
      "0.8917438921651222\n",
      "0.6710193765796124\n",
      "0.6343723673125526\n",
      "0.5370682392586352\n",
      "0.35004212299915755\n",
      "0.2346251053074979\n"
     ]
    }
   ],
   "source": [
    "# finding how far each unique user_id got in the process for category 3 products\n",
    "# order follows above value count\n",
    "for i in df_cat_3[\"process\"].value_counts():\n",
    "    z = i /len(df_cat_3[\"user_id\"].unique())\n",
    "    print(z)"
   ]
  },
  {
   "cell_type": "code",
   "execution_count": 25,
   "metadata": {},
   "outputs": [
    {
     "data": {
      "image/png": "[encoded data removed]",
      "text/plain": [
       "<Figure size 432x288 with 1 Axes>"
      ]
     },
     "metadata": {},
     "output_type": "display_data"
    }
   ],
   "source": [
    "sns.set_theme(style=\"darkgrid\")\n",
    "\n",
    "ax = sns.countplot(y=\"process\", data=df_cat_3, order=hues)"
   ]
  },
  {
   "cell_type": "markdown",
   "metadata": {},
   "source": [
    "### Category 4"
   ]
  },
  {
   "cell_type": "code",
   "execution_count": 26,
   "metadata": {},
   "outputs": [
    {
     "name": "stdout",
     "output_type": "stream",
     "text": [
      "Amount of entries for the category 4 product: 119\n"
     ]
    },
    {
     "data": {
      "text/plain": [
       "started application     30\n",
       "finished application    24\n",
       "entered checkout        14\n",
       "shipping info           12\n",
       "completed profile       10\n",
       "payment info            10\n",
       "registered              10\n",
       "fully complete           9\n",
       "Name: process, dtype: int64"
      ]
     },
     "execution_count": 26,
     "metadata": {},
     "output_type": "execute_result"
    }
   ],
   "source": [
    "df_cat_4 = df[df[\"category\"] == \"4\"]\n",
    "print(\"Amount of entries for the category 4 product: \" + str(len(df_cat_4)))\n",
    "df_cat_4[\"process\"].value_counts()"
   ]
  },
  {
   "cell_type": "code",
   "execution_count": 27,
   "metadata": {},
   "outputs": [
    {
     "name": "stdout",
     "output_type": "stream",
     "text": [
      "0.8571428571428571\n",
      "0.6857142857142857\n",
      "0.4\n",
      "0.34285714285714286\n",
      "0.2857142857142857\n",
      "0.2857142857142857\n",
      "0.2857142857142857\n",
      "0.2571428571428571\n"
     ]
    }
   ],
   "source": [
    "# finding how far each unique user_id got in the process for category 4 products\n",
    "# order follows above value count\n",
    "for i in df_cat_4[\"process\"].value_counts():\n",
    "    z = i /len(df_cat_4[\"user_id\"].unique())\n",
    "    print(z)"
   ]
  },
  {
   "cell_type": "code",
   "execution_count": 28,
   "metadata": {},
   "outputs": [
    {
     "data": {
      "image/png": "[encoded data removed]",
      "text/plain": [
       "<Figure size 432x288 with 1 Axes>"
      ]
     },
     "metadata": {},
     "output_type": "display_data"
    }
   ],
   "source": [
    "sns.set_theme(style=\"darkgrid\")\n",
    "\n",
    "ax = sns.countplot(y=\"process\", data=df_cat_4, order=hues)"
   ]
  },
  {
   "cell_type": "markdown",
   "metadata": {},
   "source": [
    "### Category 5"
   ]
  },
  {
   "cell_type": "code",
   "execution_count": 29,
   "metadata": {},
   "outputs": [
    {
     "name": "stdout",
     "output_type": "stream",
     "text": [
      "Amount of entries for the category 5 product: 11619\n"
     ]
    },
    {
     "data": {
      "text/plain": [
       "registered              2345\n",
       "started application     1996\n",
       "completed profile       1914\n",
       "finished application    1609\n",
       "entered checkout        1322\n",
       "shipping info           1061\n",
       "payment info             847\n",
       "fully complete           525\n",
       "Name: process, dtype: int64"
      ]
     },
     "execution_count": 29,
     "metadata": {},
     "output_type": "execute_result"
    }
   ],
   "source": [
    "df_cat_5 = df[df[\"category\"] == \"5\"]\n",
    "print(\"Amount of entries for the category 5 product: \" + str(len(df_cat_5)))\n",
    "df_cat_5[\"process\"].value_counts()"
   ]
  },
  {
   "cell_type": "code",
   "execution_count": 30,
   "metadata": {},
   "outputs": [
    {
     "name": "stdout",
     "output_type": "stream",
     "text": [
      "0.9953310696095077\n",
      "0.8471986417657046\n",
      "0.8123938879456706\n",
      "0.682937181663837\n",
      "0.5611205432937182\n",
      "0.450339558573854\n",
      "0.3595076400679117\n",
      "0.2228353140916808\n"
     ]
    }
   ],
   "source": [
    "# finding how far each unique user_id got in the process for category 5 products\n",
    "# order follows above value count\n",
    "for i in df_cat_5[\"process\"].value_counts():\n",
    "    z = i /len(df_cat_5[\"user_id\"].unique())\n",
    "    print(z)"
   ]
  },
  {
   "cell_type": "code",
   "execution_count": 31,
   "metadata": {},
   "outputs": [
    {
     "data": {
      "image/png": "[encoded data removed]",
      "text/plain": [
       "<Figure size 432x288 with 1 Axes>"
      ]
     },
     "metadata": {},
     "output_type": "display_data"
    }
   ],
   "source": [
    "sns.set_theme(style=\"darkgrid\")\n",
    "\n",
    "ax = sns.countplot(y=\"process\", data=df_cat_5, order=hues)"
   ]
  },
  {
   "cell_type": "markdown",
   "metadata": {},
   "source": [
    "### Category 6"
   ]
  },
  {
   "cell_type": "code",
   "execution_count": 32,
   "metadata": {},
   "outputs": [
    {
     "name": "stdout",
     "output_type": "stream",
     "text": [
      "Amount of entries for the category 6 product: 133\n"
     ]
    },
    {
     "data": {
      "text/plain": [
       "started application     26\n",
       "finished application    22\n",
       "payment info            17\n",
       "entered checkout        16\n",
       "shipping info           14\n",
       "registered              14\n",
       "fully complete          13\n",
       "completed profile       11\n",
       "Name: process, dtype: int64"
      ]
     },
     "execution_count": 32,
     "metadata": {},
     "output_type": "execute_result"
    }
   ],
   "source": [
    "df_cat_6 = df[df[\"category\"] == \"6\"]\n",
    "print(\"Amount of entries for the category 6 product: \" + str(len(df_cat_6)))\n",
    "df_cat_6[\"process\"].value_counts()"
   ]
  },
  {
   "cell_type": "code",
   "execution_count": 33,
   "metadata": {},
   "outputs": [
    {
     "name": "stdout",
     "output_type": "stream",
     "text": [
      "0.7878787878787878\n",
      "0.6666666666666666\n",
      "0.5151515151515151\n",
      "0.48484848484848486\n",
      "0.42424242424242425\n",
      "0.42424242424242425\n",
      "0.3939393939393939\n",
      "0.3333333333333333\n"
     ]
    }
   ],
   "source": [
    "# finding how far each unique user_id got in the process for category 6 products\n",
    "# order follows above value count\n",
    "for i in df_cat_6[\"process\"].value_counts():\n",
    "    z = i /len(df_cat_6[\"user_id\"].unique())\n",
    "    print(z)"
   ]
  },
  {
   "cell_type": "code",
   "execution_count": 34,
   "metadata": {},
   "outputs": [
    {
     "data": {
      "image/png": "[encoded data removed]",
      "text/plain": [
       "<Figure size 432x288 with 1 Axes>"
      ]
     },
     "metadata": {},
     "output_type": "display_data"
    }
   ],
   "source": [
    "sns.set_theme(style=\"darkgrid\")\n",
    "\n",
    "ax = sns.countplot(y=\"process\", data=df_cat_6, order=hues)"
   ]
  },
  {
   "cell_type": "markdown",
   "metadata": {},
   "source": [
    "### Category 7"
   ]
  },
  {
   "cell_type": "code",
   "execution_count": 35,
   "metadata": {},
   "outputs": [
    {
     "name": "stdout",
     "output_type": "stream",
     "text": [
      "Amount of entries for the category 7 product: 806\n"
     ]
    },
    {
     "data": {
      "text/plain": [
       "started application     152\n",
       "finished application    125\n",
       "registered              120\n",
       "completed profile       107\n",
       "entered checkout         96\n",
       "shipping info            87\n",
       "payment info             70\n",
       "fully complete           49\n",
       "Name: process, dtype: int64"
      ]
     },
     "execution_count": 35,
     "metadata": {},
     "output_type": "execute_result"
    }
   ],
   "source": [
    "df_cat_7 = df[df[\"category\"] == \"7\"]\n",
    "print(\"Amount of entries for the category 7 product: \" + str(len(df_cat_7)))\n",
    "df_cat_7[\"process\"].value_counts()"
   ]
  },
  {
   "cell_type": "code",
   "execution_count": 36,
   "metadata": {},
   "outputs": [
    {
     "name": "stdout",
     "output_type": "stream",
     "text": [
      "0.926829268292683\n",
      "0.7621951219512195\n",
      "0.7317073170731707\n",
      "0.6524390243902439\n",
      "0.5853658536585366\n",
      "0.5304878048780488\n",
      "0.4268292682926829\n",
      "0.29878048780487804\n"
     ]
    }
   ],
   "source": [
    "# finding how far each unique user_id got in the process for category 7 products\n",
    "# order follows above value count\n",
    "for i in df_cat_7[\"process\"].value_counts():\n",
    "    z = i /len(df_cat_7[\"user_id\"].unique())\n",
    "    print(z)"
   ]
  },
  {
   "cell_type": "code",
   "execution_count": 37,
   "metadata": {},
   "outputs": [
    {
     "data": {
      "image/png": "[encoded data removed]",
      "text/plain": [
       "<Figure size 432x288 with 1 Axes>"
      ]
     },
     "metadata": {},
     "output_type": "display_data"
    }
   ],
   "source": [
    "sns.set_theme(style=\"darkgrid\")\n",
    "\n",
    "ax = sns.countplot(y=\"process\", data=df_cat_7, order=hues)"
   ]
  },
  {
   "cell_type": "markdown",
   "metadata": {},
   "source": [
    "### Conclusion\n",
    "\n",
    "After analyzing the data, I believe there are two inferences to be made about the acquisition funnel.\n",
    "\n",
    "1) There is a problem with the completed profile section, and it appears to be a potential drop-off point in the acquisition funnel. If you look under the Total Values heading in the notebook, you will see a plot that shows how far each unique customer has got in the funnel process. You will see that the completed profile section has a low participation rate. Of the 5005 customers that have interacted with the website, only 4345 completed a profile, compared to the 4848 people who started the application process. \n",
    "\n",
    "In my opinion, this is happening because customers aren't incentivized to complete it. An example would be like having to fill out a profile before going into a grocery store to buy groceries or creating a profile before looking at items on Amazon. People want to find the right product - then they do what they need to do to buy the product. \n",
    "\n",
    "The solution to fixing this would be to move it later in the process - after you have completed the application and are excited to receive the product. It is possible this will improve conversion rates. It should be noted that this may also be just a simple technical error, but it is worth looking into. \n",
    "\n",
    "2) The second point I'd like to make is about the finished application portion. The numbers don't show an outlandish drop-off in that section, 4848 people started the application and 3650 finished the application, but it may be worthwhile for the product team to look into which specific page/section you are losing people on. It seems like you should be able to boost the number of finished applicants with a little more analysis. This may be reaching, but it may be beneficial towards boosting conversion rates. \n",
    "\n",
    "Overall I would say the process is performing well. About 25% of users who start the process, fully complete it. \n",
    "\n",
    "Additionally, I broke down the acquisition funnel rate into each unique category of product. I thought it would be interesting to see how each category's customers interacted with the purchasing process. That is a bit out of scope for this project, but I thought I would add it. \n",
    "\n",
    "TLDR; \n",
    "Seems to be a drop-off in the completed profile section - I would move it to the end of the process. I would also look at the finished application portion and find some reasons for the slight drop-off.    "
   ]
  }
 ],
 "metadata": {
  "kernelspec": {
   "display_name": "Python 3",
   "language": "python",
   "name": "python3"
  },
  "language_info": {
   "codemirror_mode": {
    "name": "ipython",
    "version": 3
   },
   "file_extension": ".py",
   "mimetype": "text/x-python",
   "name": "python",
   "nbconvert_exporter": "python",
   "pygments_lexer": "ipython3",
   "version": "3.6.4"
  }
 },
 "nbformat": 4,
 "nbformat_minor": 2
}
