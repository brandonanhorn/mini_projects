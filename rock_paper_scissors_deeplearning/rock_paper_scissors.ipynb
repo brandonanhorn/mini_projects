{
 "cells": [
  {
   "cell_type": "markdown",
   "metadata": {},
   "source": [
    "### Rock, paper, scissors"
   ]
  },
  {
   "cell_type": "code",
   "execution_count": 19,
   "metadata": {},
   "outputs": [],
   "source": [
    "import numpy as np\n",
    "import pandas as pd\n",
    "\n",
    "from sklearn.model_selection import train_test_split\n",
    "\n",
    "from tensorflow.keras.models import Sequential\n",
    "from tensorflow.keras.preprocessing.sequence import TimeseriesGenerator\n",
    "from tensorflow.keras.layers import Dense, LSTM, Input\n",
    "import string\n",
    "\n",
    "import matplotlib.pyplot as plt"
   ]
  },
  {
   "cell_type": "code",
   "execution_count": 2,
   "metadata": {},
   "outputs": [],
   "source": [
    "throws = 'rsprrprsprprpspspspsprrsrrspssrsrsprrpspppsssrrrsprspsprppsprpsrrprprsrprprppssrprprpprrrrps' "
   ]
  },
  {
   "cell_type": "code",
   "execution_count": 3,
   "metadata": {},
   "outputs": [],
   "source": [
    "throws = list(throws)"
   ]
  },
  {
   "cell_type": "code",
   "execution_count": 4,
   "metadata": {},
   "outputs": [
    {
     "data": {
      "text/plain": [
       "['r', 's', 'p', 'r', 'r', 'p', 'r', 's', 'p', 'r']"
      ]
     },
     "execution_count": 4,
     "metadata": {},
     "output_type": "execute_result"
    }
   ],
   "source": [
    "throws[:10]"
   ]
  },
  {
   "cell_type": "markdown",
   "metadata": {},
   "source": [
    "### First, always do you *train_test_split*"
   ]
  },
  {
   "cell_type": "code",
   "execution_count": 5,
   "metadata": {},
   "outputs": [],
   "source": [
    "i = int((len(throws) * 0.80) // 1)\n",
    "train = throws[:i]\n",
    "test = throws[i:]"
   ]
  },
  {
   "cell_type": "code",
   "execution_count": 6,
   "metadata": {},
   "outputs": [
    {
     "data": {
      "text/plain": [
       "LabelBinarizer(neg_label=0, pos_label=1, sparse_output=False)"
      ]
     },
     "execution_count": 6,
     "metadata": {},
     "output_type": "execute_result"
    }
   ],
   "source": [
    "from sklearn.preprocessing import LabelBinarizer\n",
    "\n",
    "lb = LabelBinarizer()\n",
    "lb.fit(train)"
   ]
  },
  {
   "cell_type": "code",
   "execution_count": 7,
   "metadata": {},
   "outputs": [],
   "source": [
    "X_train = lb.transform(train)\n",
    "y_train = X_train.copy()"
   ]
  },
  {
   "cell_type": "code",
   "execution_count": 8,
   "metadata": {},
   "outputs": [
    {
     "data": {
      "text/plain": [
       "array(['p', 'r', 's'], dtype='<U1')"
      ]
     },
     "execution_count": 8,
     "metadata": {},
     "output_type": "execute_result"
    }
   ],
   "source": [
    "lb.classes_"
   ]
  },
  {
   "cell_type": "code",
   "execution_count": 9,
   "metadata": {},
   "outputs": [],
   "source": [
    "train_generator = TimeseriesGenerator(X_train, y_train, length=3)"
   ]
  },
  {
   "cell_type": "code",
   "execution_count": 10,
   "metadata": {},
   "outputs": [],
   "source": [
    "X_train, y_train = train_generator[0]"
   ]
  },
  {
   "cell_type": "code",
   "execution_count": 11,
   "metadata": {},
   "outputs": [],
   "source": [
    "model = Sequential()\n",
    "\n",
    "model.add(Input(shape=(3, 3)))\n",
    "model.add(LSTM(32))\n",
    "model.add(Dense(3, activation=\"softmax\"))\n",
    "\n",
    "model.compile(loss=\"categorical_crossentropy\", optimizer=\"adam\", metrics=[\"accuracy\"])"
   ]
  },
  {
   "cell_type": "code",
   "execution_count": 12,
   "metadata": {},
   "outputs": [
    {
     "name": "stderr",
     "output_type": "stream",
     "text": [
      "WARNING: Logging before flag parsing goes to stderr.\n",
      "W0120 12:56:23.676570 4508249408 deprecation.py:323] From /Users/max/anaconda3/lib/python3.7/site-packages/tensorflow/python/ops/math_grad.py:1250: add_dispatch_support.<locals>.wrapper (from tensorflow.python.ops.array_ops) is deprecated and will be removed in a future version.\n",
      "Instructions for updating:\n",
      "Use tf.where in 2.0, which has the same broadcast rule as np.where\n"
     ]
    },
    {
     "name": "stdout",
     "output_type": "stream",
     "text": [
      "Train on 70 samples\n",
      "Epoch 1/50\n",
      "70/70 - 2s - loss: 1.1026 - accuracy: 0.3286\n",
      "Epoch 2/50\n",
      "70/70 - 0s - loss: 1.0916 - accuracy: 0.4000\n",
      "Epoch 3/50\n",
      "70/70 - 0s - loss: 1.0862 - accuracy: 0.4000\n",
      "Epoch 4/50\n",
      "70/70 - 0s - loss: 1.0794 - accuracy: 0.4143\n",
      "Epoch 5/50\n",
      "70/70 - 0s - loss: 1.0761 - accuracy: 0.4429\n",
      "Epoch 6/50\n",
      "70/70 - 0s - loss: 1.0750 - accuracy: 0.4143\n",
      "Epoch 7/50\n",
      "70/70 - 0s - loss: 1.0672 - accuracy: 0.4286\n",
      "Epoch 8/50\n",
      "70/70 - 0s - loss: 1.0652 - accuracy: 0.4429\n",
      "Epoch 9/50\n",
      "70/70 - 0s - loss: 1.0589 - accuracy: 0.4286\n",
      "Epoch 10/50\n",
      "70/70 - 0s - loss: 1.0534 - accuracy: 0.4429\n",
      "Epoch 11/50\n",
      "70/70 - 0s - loss: 1.0418 - accuracy: 0.4286\n",
      "Epoch 12/50\n",
      "70/70 - 0s - loss: 1.0304 - accuracy: 0.4286\n",
      "Epoch 13/50\n",
      "70/70 - 0s - loss: 1.0160 - accuracy: 0.5286\n",
      "Epoch 14/50\n",
      "70/70 - 0s - loss: 0.9944 - accuracy: 0.5143\n",
      "Epoch 15/50\n",
      "70/70 - 0s - loss: 0.9729 - accuracy: 0.5286\n",
      "Epoch 16/50\n",
      "70/70 - 0s - loss: 0.9664 - accuracy: 0.5286\n",
      "Epoch 17/50\n",
      "70/70 - 0s - loss: 0.9562 - accuracy: 0.5286\n",
      "Epoch 18/50\n",
      "70/70 - 0s - loss: 0.9537 - accuracy: 0.5429\n",
      "Epoch 19/50\n",
      "70/70 - 0s - loss: 0.9464 - accuracy: 0.5143\n",
      "Epoch 20/50\n",
      "70/70 - 0s - loss: 0.9465 - accuracy: 0.5286\n",
      "Epoch 21/50\n",
      "70/70 - 0s - loss: 0.9466 - accuracy: 0.5143\n",
      "Epoch 22/50\n",
      "70/70 - 0s - loss: 0.9430 - accuracy: 0.5143\n",
      "Epoch 23/50\n",
      "70/70 - 0s - loss: 0.9441 - accuracy: 0.5286\n",
      "Epoch 24/50\n",
      "70/70 - 0s - loss: 0.9366 - accuracy: 0.5571\n",
      "Epoch 25/50\n",
      "70/70 - 0s - loss: 0.9353 - accuracy: 0.5429\n",
      "Epoch 26/50\n",
      "70/70 - 0s - loss: 0.9393 - accuracy: 0.5143\n",
      "Epoch 27/50\n",
      "70/70 - 0s - loss: 0.9363 - accuracy: 0.5571\n",
      "Epoch 28/50\n",
      "70/70 - 0s - loss: 0.9318 - accuracy: 0.5714\n",
      "Epoch 29/50\n",
      "70/70 - 0s - loss: 0.9329 - accuracy: 0.5143\n",
      "Epoch 30/50\n",
      "70/70 - 0s - loss: 0.9363 - accuracy: 0.5571\n",
      "Epoch 31/50\n",
      "70/70 - 0s - loss: 0.9283 - accuracy: 0.5429\n",
      "Epoch 32/50\n",
      "70/70 - 0s - loss: 0.9316 - accuracy: 0.5571\n",
      "Epoch 33/50\n",
      "70/70 - 0s - loss: 0.9239 - accuracy: 0.5571\n",
      "Epoch 34/50\n",
      "70/70 - 0s - loss: 0.9210 - accuracy: 0.5429\n",
      "Epoch 35/50\n",
      "70/70 - 0s - loss: 0.9192 - accuracy: 0.5286\n",
      "Epoch 36/50\n",
      "70/70 - 0s - loss: 0.9183 - accuracy: 0.5714\n",
      "Epoch 37/50\n",
      "70/70 - 0s - loss: 0.9167 - accuracy: 0.5571\n",
      "Epoch 38/50\n",
      "70/70 - 0s - loss: 0.9170 - accuracy: 0.5286\n",
      "Epoch 39/50\n",
      "70/70 - 0s - loss: 0.9145 - accuracy: 0.5714\n",
      "Epoch 40/50\n",
      "70/70 - 0s - loss: 0.9144 - accuracy: 0.5571\n",
      "Epoch 41/50\n",
      "70/70 - 0s - loss: 0.9121 - accuracy: 0.5429\n",
      "Epoch 42/50\n",
      "70/70 - 0s - loss: 0.9091 - accuracy: 0.5857\n",
      "Epoch 43/50\n",
      "70/70 - 0s - loss: 0.9086 - accuracy: 0.5857\n",
      "Epoch 44/50\n",
      "70/70 - 0s - loss: 0.9139 - accuracy: 0.5429\n",
      "Epoch 45/50\n",
      "70/70 - 0s - loss: 0.9074 - accuracy: 0.5571\n",
      "Epoch 46/50\n",
      "70/70 - 0s - loss: 0.9037 - accuracy: 0.5286\n",
      "Epoch 47/50\n",
      "70/70 - 0s - loss: 0.9036 - accuracy: 0.5714\n",
      "Epoch 48/50\n",
      "70/70 - 0s - loss: 0.8988 - accuracy: 0.5857\n",
      "Epoch 49/50\n",
      "70/70 - 0s - loss: 0.8964 - accuracy: 0.5714\n",
      "Epoch 50/50\n",
      "70/70 - 0s - loss: 0.8934 - accuracy: 0.5857\n"
     ]
    }
   ],
   "source": [
    "history = model.fit(X_train, y_train, epochs=50, batch_size=1, verbose=2)"
   ]
  },
  {
   "cell_type": "code",
   "execution_count": 13,
   "metadata": {},
   "outputs": [
    {
     "name": "stdout",
     "output_type": "stream",
     "text": [
      "70/70 [==============================] - 2s 29ms/sample - loss: 0.8773 - accuracy: 0.5857\n"
     ]
    },
    {
     "data": {
      "text/plain": [
       "[0.8772547210965838, 0.5857143]"
      ]
     },
     "execution_count": 13,
     "metadata": {},
     "output_type": "execute_result"
    }
   ],
   "source": [
    "model.evaluate(X_train, y_train)"
   ]
  },
  {
   "cell_type": "code",
   "execution_count": 14,
   "metadata": {},
   "outputs": [],
   "source": [
    "hock = np.array([\n",
    "    lb.transform(['r']),\n",
    "    lb.transform(['s']),\n",
    "    lb.transform(['s'])\n",
    "    # rock might be next\n",
    "]).reshape(1, 3, 3)"
   ]
  },
  {
   "cell_type": "code",
   "execution_count": 15,
   "metadata": {},
   "outputs": [
    {
     "data": {
      "text/plain": [
       "array([[0.1516747 , 0.7019898 , 0.14633547]], dtype=float32)"
      ]
     },
     "execution_count": 15,
     "metadata": {},
     "output_type": "execute_result"
    }
   ],
   "source": [
    "model.predict(hock)"
   ]
  },
  {
   "cell_type": "code",
   "execution_count": 16,
   "metadata": {},
   "outputs": [
    {
     "data": {
      "text/plain": [
       "1"
      ]
     },
     "execution_count": 16,
     "metadata": {},
     "output_type": "execute_result"
    }
   ],
   "source": [
    "i = np.argmax(model.predict(hock)[0])\n",
    "i"
   ]
  },
  {
   "cell_type": "code",
   "execution_count": 17,
   "metadata": {},
   "outputs": [],
   "source": [
    "new = np.zeros(3)\n",
    "new[i] = 1"
   ]
  },
  {
   "cell_type": "code",
   "execution_count": 18,
   "metadata": {},
   "outputs": [
    {
     "data": {
      "text/plain": [
       "'r'"
      ]
     },
     "execution_count": 18,
     "metadata": {},
     "output_type": "execute_result"
    }
   ],
   "source": [
    "lb.inverse_transform(np.array([new]))[0]"
   ]
  }
 ],
 "metadata": {
  "kernelspec": {
   "display_name": "Python 3",
   "language": "python",
   "name": "python3"
  },
  "language_info": {
   "codemirror_mode": {
    "name": "ipython",
    "version": 3
   },
   "file_extension": ".py",
   "mimetype": "text/x-python",
   "name": "python",
   "nbconvert_exporter": "python",
   "pygments_lexer": "ipython3",
   "version": "3.6.4"
  }
 },
 "nbformat": 4,
 "nbformat_minor": 2
}
